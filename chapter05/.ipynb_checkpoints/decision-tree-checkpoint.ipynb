{
 "cells": [
  {
   "cell_type": "markdown",
   "metadata": {},
   "source": [
    "# 决策树"
   ]
  },
  {
   "cell_type": "markdown",
   "metadata": {},
   "source": [
    "## 1. 概述"
   ]
  },
  {
   "cell_type": "markdown",
   "metadata": {},
   "source": [
    "决策树（decision tree）是一种基本的分类和回归方法。"
   ]
  },
  {
   "cell_type": "markdown",
   "metadata": {},
   "source": [
    "### 1.1 分类决策树\n",
    "在分类问题中，表示基于特征对实例进行分类的过程 [1]。 以二分类任务为例，希望从给定的训练数据集中学得一个模型用以对新示例进行分类，这个把样本分类的任务，可以看作对“当前样本属于正类吗？”这个问题的“决策”或“判定”的过程。例如，我们要对“这是好瓜吗？”这样的问题进行决策时，通常会进行一系列的“子决策”：先看“它是什么颜色？”，如果是“青绿色”，则再看“根蒂是什么形态？”，如果是“蜷缩”，再判断“敲起来什么声音？”，最后得出最终决策：这是个好瓜。上述决策过程如下图所示：\n",
    "\n",
    "![西瓜问题决策树](../img/dt-ball.png)\n",
    "\n",
    "显然，决策过程的最终结论对应了我们所希望的判定结果，决策过程中每个判定问题都是对某个属性的“测试”，例如“色泽=？” “根蒂=？”；每个测试的结果或是导出最终结论，或是导出进一步的判定问题。\n",
    "\n",
    "#### 定义1.1 （决策树）[3]\n",
    "分类决策树模型是一种描述对实例进行分类的树形结构，决策树由**结点**和**有向边**组成，结点有**内部结点**和**叶子结点**。内部结点表示一个特征或属性，叶子结点表示一个类别.\n",
    "\n",
    "一般的，一棵决策树包含一个根结点、若干个内部结点和若干个叶子结点。根结点包含样本全集，从根结点开始，对实例的某一特征进行测试，根据测试结果，将实例分配到其子结点。这时，每个子结点对应着该特征的一个取值。如此递归地对实例进行测试并分配，直至达到叶子结点。从根结点到每个叶子结点的路径对应了一个判定序列。**决策树学习的目的是为了产生一棵泛化能力强，即处理未见示例能力强的决策树。**"
   ]
  },
  {
   "cell_type": "markdown",
   "metadata": {},
   "source": [
    "### 1.2 回归决策树 [2]\n",
    "\n",
    "在回归问题中，是根据特征向量来决定对应的输出值 [2].\n",
    "\n",
    "回归树就是将特征空间划分成若干单元，每一个划分单元有一个特定的输出。因为每个结点都是“是”和“否”的判断，所以划分的边界是平行于坐标轴的。对于测试数据，我们只要按照特征将其归到某个单元，便得到对应的输出值。"
   ]
  },
  {
   "cell_type": "markdown",
   "metadata": {},
   "source": [
    "![回归决策树](../img/dt-reg.png)"
   ]
  },
  {
   "cell_type": "markdown",
   "metadata": {},
   "source": [
    "同分类问题一致，**回归决策树的建立过程实质是划分的过程**。既然要划分，**划分点如何找?输出值如何确定？**这是回归决策树的核心：\n",
    "* 划分点选择：最小二乘法\n",
    "\n",
    "* 输出值：单元内均值"
   ]
  },
  {
   "cell_type": "markdown",
   "metadata": {},
   "source": [
    "#### 原理"
   ]
  },
  {
   "cell_type": "markdown",
   "metadata": {},
   "source": [
    "假设$X$和$Y$分别表示输入和输出变量，并且$Y$是连续变量，给定训练数据集$$D=\\left\\{(x_1,y_1),...,(x_N,y_N) \\right\\},$$ 其中$x_i = (x^{(1)}_i,...,x^{(n)}_i)$为特征向量"
   ]
  },
  {
   "cell_type": "markdown",
   "metadata": {},
   "source": [
    "对特征空间的划分采用启发式方法，每次划分逐一考察当前集合中所有特征的所有取值，根据**平方误差最小化准则**，选择其中最优的一个作为切分点。例如，将训练集中属性$a$和它的取值$a^v$，作为切分变量和切分点，并定义两个区域$$D_1(a,a^v)=\\left\\{x_i| x^{a}_i\\leq a^v\\right\\}$$ $$D_2(a,a^v)=\\left\\{x_i| x^{a}_i> a^v\\right\\}$$"
   ]
  },
  {
   "cell_type": "markdown",
   "metadata": {},
   "source": [
    "最优的$a$和$a^v$，定义为使得划分的两个区域平方误差和最小的$a$和$a^v$:\n",
    "$$\n",
    "\\min_{a,a^v}\\left[ \\min_{c_1} \\sum_{x_i \\in D_1(a,a^v) }(y_i-c_1)^2+  \\min_{c_2} \\sum_{x_i \\in D_2(a,a^v) }(y_i-c_2)^2\\right]\n",
    "$$"
   ]
  },
  {
   "cell_type": "markdown",
   "metadata": {},
   "source": [
    "其中$c_1$，$c_2$为划分后两个区域内固定的输出值，方括号内的两个min意为使用的是**最优输出值的$c_1$和$c_2$**，也就是**使得各自区域内平方误差最小**的$c_1$和$c_2$，**根据优化理论**，易知这两个最优输出值就是各自对应区域内$Y$的均值，因此上式可写为$$\n",
    "\\min_{a,a^v}\\left[ \\sum_{x_i \\in D_1(a,a^v) }(y_i-\\hat{c}_1)^2+ \\sum_{x_i \\in D_2(a,a^v) }(y_i-\\hat{c}_2)^2  \\right]\n",
    "$$\n",
    "其中$$\\hat{c}_1 = \\frac{1}{N_1}\\sum_{x_i \\in D_1(a,a^v)} y_i,~\\hat{c}_2 = \\frac{1}{N_2}\\sum_{x_i \\in D_2(a,a^v)} y_i$$"
   ]
  },
  {
   "cell_type": "markdown",
   "metadata": {},
   "source": [
    "找到最优的切分点$(a,a^v)$后，依次将输入空间划分为两个区域，对每个区域重复上述划分过程，直到满足停止条件。这样就生成了一棵回归树，也称为**最小二乘回归树**。"
   ]
  },
  {
   "cell_type": "markdown",
   "metadata": {},
   "source": [
    "## 2. 决策树算法"
   ]
  },
  {
   "cell_type": "markdown",
   "metadata": {},
   "source": [
    "### 2.1 信息熵"
   ]
  },
  {
   "cell_type": "markdown",
   "metadata": {},
   "source": [
    "决策树学习的关键是如何选择最优划分属性。一般而言，随着划分过程不断进行，我们希望决策树的分支结点所包含的样本尽可能属于同一类别，即结点的“纯度”越来越高。为定义“纯度”，引入**信息熵**的概念：\n",
    "\n",
    "***“信息熵”是度量样本集合纯度最常用的一种指标，假设当前样本集合$D=\\left\\{ (x_1,y_1),...,(x_n,y_n) \\right\\}$中第$k$类样本所占的比例为$p_k(k=1,2,...,|\\mathcal{Y}|)$, 其中$|\\mathcal{Y}|$表示样本类别总数，则$D$的信息熵定义为：***$$Ent(D)=-\\sum_{k=1}^{|\\mathcal{Y}|}p_klog_2p_k$$\n",
    "其中$\\sum^{|\\mathcal{Y}|}_{k=1}p_k=1$, $Ent(D)$越小，$D$的纯度越高。"
   ]
  },
  {
   "cell_type": "markdown",
   "metadata": {},
   "source": [
    "#### 2.1.1 示例: \n",
    "* $D = \\left\\{ \\frac{1}{3},\\frac{1}{3},\\frac{1}{3}\\right\\}$, $$Ent(D) = -\\frac{1}{3}log_2\\frac{1}{3}-\\frac{1}{3}log_2\\frac{1}{3}-\\frac{1}{3}log_2\\frac{1}{3}=1.0986$$\n",
    "\n",
    "* $D= \\left\\{ \\frac{1}{10},\\frac{2}{10},\\frac{7}{10}\\right\\}$, $$Ent(D) = -\\frac{1}{10}log_2\\frac{1}{10}-\\frac{2}{10}log_2\\frac{2}{10}-\\frac{7}{10}log_2\\frac{7}{10}=0.8018$$\n",
    "\n",
    "* 极端情况：$D= \\left\\{ 1,0,0\\right\\}$, $$Ent(D) = -log_21-0*log_20-0*log_20=0$$"
   ]
  },
  {
   "cell_type": "markdown",
   "metadata": {},
   "source": [
    "***注：由于$0\\leq p_k\\leq 1$, 所以$-p_klog_2p_k\\geq 0$, 集合中数据越分散，$p_k$越小，$-p_klog_2p_k$越大（ $x$ 与 $log_2x$ 在$x<1$的情况下，$log_2x$变化率高），因此集合数据越分散，$Ent(D)$ 越大***"
   ]
  },
  {
   "cell_type": "markdown",
   "metadata": {},
   "source": [
    "**$Ent(D)$的取值范围(证明见附录)：$$0\\leq Ent(D)\\leq log_2 |\\mathcal{Y}|$$**"
   ]
  },
  {
   "cell_type": "markdown",
   "metadata": {},
   "source": [
    "#### 2.1.2 二分类的信息熵"
   ]
  },
  {
   "cell_type": "markdown",
   "metadata": {},
   "source": [
    "对二分类问题，信息熵为：$$Ent(D) = -xlog_2x - (1-x)log_2(1-x)$$"
   ]
  },
  {
   "cell_type": "code",
   "execution_count": 1,
   "metadata": {},
   "outputs": [],
   "source": [
    "import numpy as np\n",
    "import matplotlib.pyplot as plt"
   ]
  },
  {
   "cell_type": "code",
   "execution_count": 2,
   "metadata": {},
   "outputs": [],
   "source": [
    "def entropy(p):\n",
    "    return -p * np.log(p) - (1-p) * np.log(1-p)"
   ]
  },
  {
   "cell_type": "code",
   "execution_count": 3,
   "metadata": {},
   "outputs": [
    {
     "data": {
      "image/png": "[encoded data removed]",
      "text/plain": [
       "<Figure size 432x288 with 1 Axes>"
      ]
     },
     "metadata": {
      "needs_background": "light"
     },
     "output_type": "display_data"
    }
   ],
   "source": [
    "x = np.linspace(0.01, 0.99, 200)\n",
    "plt.plot(x, entropy(x))\n",
    "plt.show()"
   ]
  },
  {
   "cell_type": "markdown",
   "metadata": {},
   "source": [
    "可见，在二分类问题中，当样本数据中两类数据对半分布时，集合纯度最低，样本不确定性最高。"
   ]
  },
  {
   "cell_type": "markdown",
   "metadata": {},
   "source": [
    "**按照决策树划分原则的不同，当前主要有三种决策树学习算法**：\n",
    "* ID3 决策树\n",
    "\n",
    "* C4.5 决策树\n",
    "\n",
    "* CART(Classification and Regression Tree) 决策树"
   ]
  },
  {
   "cell_type": "markdown",
   "metadata": {},
   "source": [
    "### 2.2 ID3决策树"
   ]
  },
  {
   "cell_type": "markdown",
   "metadata": {},
   "source": [
    "ID3决策树利用“信息增益”来对样本进行划分：$$Gain(D,a) = Ent(D) - \\sum^{V}_{v=1}\\frac{|D^v|}{|D|}Ent(D^v) $$"
   ]
  },
  {
   "cell_type": "markdown",
   "metadata": {},
   "source": [
    "其中$a$表示样本的某个属性，属性$a$有$V$个可能的取值$$\\left\\{ a^1,a^2,...,a^V\\right\\},$$ 样本集合$D$中在属性$a$上取值为$a^v$的样本记作$D^v$，$Ent(D^v)$是样本集合$D^v$的信息熵."
   ]
  },
  {
   "cell_type": "markdown",
   "metadata": {},
   "source": [
    "一般来说，信息增益越大，表明使用属性$a$来进行划分所获得的样本集合信息熵越小，“纯度提升“越大。因此，可以使用信息增益来对决策树进行划分属性的选择。"
   ]
  },
  {
   "cell_type": "markdown",
   "metadata": {},
   "source": [
    "#### 特点：对可取值数目较多的属性有所偏好"
   ]
  },
  {
   "cell_type": "markdown",
   "metadata": {},
   "source": [
    "$$\n",
    "\\begin{aligned}\n",
    "Gain(D,a) &= Ent(D) - \\sum^{V}_{v=1}\\frac{|D^v|}{|D|}Ent(D^v)\\\\\n",
    "&=Ent(D) - \\sum^{V}_{v=1}\\frac{|D^v|}{|D|} \\left( -\\sum^{|\\mathcal{Y}|}_{k=1}p_klog_2p_k\\right)\\\\\n",
    "&=Ent(D) -\\sum^{V}_{v=1}\\frac{|D^v|}{|D|} \\left( -\\sum^{|\\mathcal{Y}|}_{k=1}\\frac{|D^v_k|}{|D^v|}log_2\\frac{|D^v_k|}{|D^v|} \\right)\n",
    "\\end{aligned}$$"
   ]
  },
  {
   "cell_type": "markdown",
   "metadata": {},
   "source": [
    "其中,$D^v_k$表示样本集合$D$中在属性$a$上取值为$a^v$，且类别为$k$的样本"
   ]
  },
  {
   "cell_type": "markdown",
   "metadata": {},
   "source": [
    "假设属性$a$的取值数目较多，极端情况下，$a$的取值有$|D|$种，则$|D^v|=1$, $|D^v_k|=1$，后面一项变为$0$，增益最大。因此，**ID3决策树对取值数目较多的属性有所偏好**。这样的决策树泛化能力比较差，无法对新样本进行有效预测。"
   ]
  },
  {
   "cell_type": "markdown",
   "metadata": {},
   "source": [
    "### 2.3 C4.5决策树"
   ]
  },
  {
   "cell_type": "markdown",
   "metadata": {},
   "source": [
    "C4.5决策树使用“增益率”来选择最优划分属性：$$Gain\\_ratio(D,a)=\\frac{Gain(D,a)}{IV(a)}$$"
   ]
  },
  {
   "cell_type": "markdown",
   "metadata": {},
   "source": [
    "其中$$IV(a)=-\\sum_{v=1}^V\\frac{|D^v|}{|D|}log_2\\frac{|D^v|}{|D|}$$"
   ]
  },
  {
   "cell_type": "markdown",
   "metadata": {},
   "source": [
    "为属性$a$的固有值。属性$a$的可能取值数目越多，则$|D^v|$越小，$IV(a)$越大，$Gain\\_ratio(D,a)$越小。（信息增益率越大，“纯度提升“越大）"
   ]
  },
  {
   "cell_type": "markdown",
   "metadata": {},
   "source": [
    "**特点：对可取值数目较少的属性有所偏好**"
   ]
  },
  {
   "cell_type": "markdown",
   "metadata": {},
   "source": [
    "**解决思路：C4.5并不是直接选择增益率最大的候选划分属性，而是使用一种启发式：先从候选属性中找出信息增益高于平均水平的属性，再从中选择增益率最高的。**"
   ]
  },
  {
   "cell_type": "markdown",
   "metadata": {},
   "source": [
    "### 2.4 CART决策树(Classification and Regression Tree)"
   ]
  },
  {
   "cell_type": "markdown",
   "metadata": {},
   "source": [
    "CART决策树使用“基尼系数”来选择划分属性：$$Gini(D)=\\sum^{|\\mathcal{Y}|}_{k=1}\\sum_{k'\\neq k}p_kp'_k=\\sum^{|\\mathcal{Y}|}_{k=1}p_k(1-p_k)=1-\\sum^{|\\mathcal{Y}|}_{k=1}p^2_k$$"
   ]
  },
  {
   "cell_type": "markdown",
   "metadata": {},
   "source": [
    "#### 2.4.1 示例："
   ]
  },
  {
   "cell_type": "markdown",
   "metadata": {},
   "source": [
    "* $D=\\left\\{ \\frac{1}{3},\\frac{1}{3},\\frac{1}{3}\\right\\}$, $$Gini(D)=1-(\\frac{1}{3})^2 - (\\frac{1}{3})^2 -(\\frac{1}{3})^2 = 0.6666 $$\n",
    "\n",
    "* $D=\\left\\{ \\frac{1}{10},\\frac{2}{10},\\frac{7}{10}\\right\\}$, $$Gini(D)=1-(\\frac{1}{10})^2 - (\\frac{2}{10})^2 -(\\frac{7}{10})^2 = 0.46 $$\n",
    "\n",
    "* $D=\\left\\{ 1,0,0\\right\\}$, $$Gini(D)=1-1=0 $$"
   ]
  },
  {
   "cell_type": "markdown",
   "metadata": {},
   "source": [
    "直观来说，$Gini(D)$反映了从数据集中随机抽取两个样本，其类别标记不一致的概率，概率越大($Gini(D)$越大)，说明纯度越低；概率越小($Gini(D)$越小)，纯度越高。"
   ]
  },
  {
   "cell_type": "markdown",
   "metadata": {},
   "source": [
    "**对二分类问题： $$Gini(D) = 1 - x^2 - (1-x)^2 = -2x^2 + 2x$$ 当$x=\\frac{1}{2}$时，$Gini$值最大，不确定性最高**"
   ]
  },
  {
   "cell_type": "markdown",
   "metadata": {},
   "source": [
    "属性$a$的基尼指数定义为$$Gini\\_index(D,a)=\\sum_{v=1}^V\\frac{|D^v|}{|D|}Gini(D^v)$$"
   ]
  },
  {
   "cell_type": "markdown",
   "metadata": {},
   "source": [
    "####  2.4.2 CART决策树分类算法："
   ]
  },
  {
   "cell_type": "markdown",
   "metadata": {},
   "source": [
    "* 根据基尼指数公式$$Gini\\_index(D,a)=\\sum_{v=1}^V\\frac{|D^v|}{|D|}Gini(D^v)$$ 找出**基尼指数最小**的属性$a_*$\n",
    "\n",
    "* 计算属性$a_*$的所有可能取值的基尼值$Gini(D^v),~v=1,...,V$，选择基尼值最小的取值$a^v_*$作为划分点，将集合$D$划分为$D_1$和$D_2$两个集合，其中$D_1$集合的样本为$a_* = a^v_*$的样本，$D_2$集合为$a_* \\neq a^v_*$的样本\n",
    "\n",
    "* 对集合$D_1$和$D_2$重复上述步骤，直至满足停止条件"
   ]
  },
  {
   "cell_type": "markdown",
   "metadata": {},
   "source": [
    "#### 2.4.3 CART决策树回归算法："
   ]
  },
  {
   "cell_type": "markdown",
   "metadata": {},
   "source": [
    "* 根据以下公式找出最优划分特征$a_*$和最优划分点$a^v_*$: $$a_*,a^v_*=\\arg\\min_{a,a^v}\\left[ \\min_{c_1} \\sum_{x_i \\in D_1(a,a^v) }(y_i-c_1)^2+  \\min_{c_2} \\sum_{x_i \\in D_2(a,a^v) }(y_i-c_2)^2\\right]$$\n",
    "其中，$D_1(a,a^v)$表示在属性$a$上取值小于等于$a^v$的样本集合，$D_2(a,a^v)$表示在属性$a$上取值大于$a^v$的样本集合，$c_1$表示$D_1(a,a^v)$的样本输出均值，$c_2$表示$D_2(a,a^v)$的样本输出均值\n",
    "\n",
    "* 根据划分点$a^v_*$将集合$D$划分为$D_1$和$D_2$两个集合\n",
    "\n",
    "* 对集合$D_1$和$D_2$重复上述步骤，直至满足停止条件"
   ]
  },
  {
   "cell_type": "markdown",
   "metadata": {},
   "source": [
    "#### 2.4.4 信息熵VS基尼系数 "
   ]
  },
  {
   "cell_type": "markdown",
   "metadata": {},
   "source": [
    "* 熵的计算比基尼系数计算稍慢（待考究）\n",
    "\n",
    "* sklearn 默认使用基尼系数\n",
    "\n",
    "* 大多数情况下两者没有特别的效果优劣"
   ]
  },
  {
   "cell_type": "markdown",
   "metadata": {},
   "source": [
    "## 3. 案例"
   ]
  },
  {
   "cell_type": "markdown",
   "metadata": {},
   "source": [
    "### 莺尾花数据集"
   ]
  },
  {
   "cell_type": "markdown",
   "metadata": {},
   "source": [
    "#### 3.1 利用信息熵寻找最优划分"
   ]
  },
  {
   "cell_type": "code",
   "execution_count": 3,
   "metadata": {},
   "outputs": [],
   "source": [
    "import numpy as np\n",
    "import matplotlib.pyplot as plt"
   ]
  },
  {
   "cell_type": "code",
   "execution_count": 7,
   "metadata": {},
   "outputs": [],
   "source": [
    "from sklearn import datasets\n",
    "iris = datasets.load_iris() # 载入莺尾花数据"
   ]
  },
  {
   "cell_type": "code",
   "execution_count": 11,
   "metadata": {},
   "outputs": [],
   "source": [
    "X = iris.data[:,2:] # 取后两个特征\n",
    "y = iris.target"
   ]
  },
  {
   "cell_type": "code",
   "execution_count": 13,
   "metadata": {},
   "outputs": [
    {
     "data": {
      "text/plain": [
       "DecisionTreeClassifier(ccp_alpha=0.0, class_weight=None, criterion='entropy',\n",
       "                       max_depth=2, max_features=None, max_leaf_nodes=None,\n",
       "                       min_impurity_decrease=0.0, min_impurity_split=None,\n",
       "                       min_samples_leaf=1, min_samples_split=2,\n",
       "                       min_weight_fraction_leaf=0.0, presort='deprecated',\n",
       "                       random_state=None, splitter='best')"
      ]
     },
     "execution_count": 13,
     "metadata": {},
     "output_type": "execute_result"
    }
   ],
   "source": [
    "from sklearn.tree import DecisionTreeClassifier\n",
    "dt_clf = DecisionTreeClassifier(max_depth=2,criterion=\"entropy\")\n",
    "dt_clf.fit(X,y)"
   ]
  },
  {
   "cell_type": "code",
   "execution_count": 5,
   "metadata": {},
   "outputs": [],
   "source": [
    "# 定义作图函数\n",
    "def plot_decision_boundary(model, axis):\n",
    "    \n",
    "    x0, x1 = np.meshgrid(\n",
    "        np.linspace(axis[0], axis[1], int((axis[1]-axis[0])*100)).reshape(-1, 1),\n",
    "        np.linspace(axis[2], axis[3], int((axis[3]-axis[2])*100)).reshape(-1, 1),\n",
    "    )\n",
    "    X_new = np.c_[x0.ravel(), x1.ravel()]\n",
    "\n",
    "    y_predict = model.predict(X_new)\n",
    "    zz = y_predict.reshape(x0.shape)\n",
    "\n",
    "    from matplotlib.colors import ListedColormap\n",
    "    custom_cmap = ListedColormap(['#EF9A9A','#FFF59D','#90CAF9'])\n",
    "    \n",
    "    plt.contourf(x0, x1, zz, cmap=custom_cmap)"
   ]
  },
  {
   "cell_type": "code",
   "execution_count": 17,
   "metadata": {},
   "outputs": [
    {
     "data": {
      "image/png": "[encoded data removed]",
      "text/plain": [
       "<Figure size 432x288 with 1 Axes>"
      ]
     },
     "metadata": {
      "needs_background": "light"
     },
     "output_type": "display_data"
    }
   ],
   "source": [
    "plot_decision_boundary(dt_clf, axis=[0.5, 7.5, 0, 3])\n",
    "plt.scatter(X[y==0,0], X[y==0,1])\n",
    "plt.scatter(X[y==1,0], X[y==1,1])\n",
    "plt.scatter(X[y==2,0], X[y==2,1])\n",
    "plt.show()"
   ]
  },
  {
   "cell_type": "markdown",
   "metadata": {},
   "source": [
    "#### 3.2 模拟使用信息熵进行划分"
   ]
  },
  {
   "cell_type": "markdown",
   "metadata": {},
   "source": [
    "##### 定义划分函数(根据数据集、划分特征、划分值将数据集划分为两个子集)"
   ]
  },
  {
   "cell_type": "code",
   "execution_count": 20,
   "metadata": {},
   "outputs": [],
   "source": [
    "def split(X,y,d,value):\n",
    "    index_a = (X[:,d] <= value)\n",
    "    index_b = (X[:,d] > value)\n",
    "    return X[index_a],X[index_b],y[index_a],y[index_b]"
   ]
  },
  {
   "cell_type": "code",
   "execution_count": 21,
   "metadata": {},
   "outputs": [
    {
     "data": {
      "text/plain": [
       "array([1, 2, 0])"
      ]
     },
     "execution_count": 21,
     "metadata": {},
     "output_type": "execute_result"
    }
   ],
   "source": [
    "# 预备知识\n",
    "## numpy中的argsort函数：返回数组值从小到大的索引值\n",
    "arr = np.array([3,1,2])\n",
    "np.argsort(arr)"
   ]
  },
  {
   "cell_type": "markdown",
   "metadata": {},
   "source": [
    "##### 寻找最优划分特征和划分值"
   ]
  },
  {
   "cell_type": "code",
   "execution_count": 66,
   "metadata": {},
   "outputs": [],
   "source": [
    "from collections import Counter # 计数器生成字典\n",
    "from math import log\n",
    "\n",
    "# 定义信息熵函数\n",
    "def entropy(y):\n",
    "    counter = Counter(y)\n",
    "    res = 0.0\n",
    "    \n",
    "    for num in counter.values():\n",
    "        p = num / len(y)\n",
    "        res += -p*log(p)\n",
    "    return res\n",
    "\n",
    "# 寻找最优特征和划分值\n",
    "def try_split(X,y):\n",
    "    \n",
    "    best_entropy = float('inf') # 正无穷\n",
    "    best_d,best_v = -1,-1\n",
    "    \n",
    "    # 对特征进行遍历\n",
    "    for d in range(X.shape[1]):\n",
    "        sorted_index = np.argsort(X[:,d]) # 对数据集第d个属性进行排序，返回值从小到大的索引值\n",
    "        for i in range(1,len(X)): # 第i-1,i个样本进行比较\n",
    "            if X[sorted_index[i-1],d] != X[sorted_index[i],d]:\n",
    "                v = (X[sorted_index[i-1],d] + X[sorted_index[i],d])/2\n",
    "                X_l,X_r,y_l,y_r = split(X,y,d,v);\n",
    "                '''\n",
    "                e = entropy(y_l) + entropy(y_r)\n",
    "                if e < best_entropy: # 对划分后的信息熵进行对比（信息增益划分法，与ID3有区别）\n",
    "                    best_entropy, best_d, best_v = e, d, v\n",
    "                '''\n",
    "                # ID3决策树?\n",
    "                p_l, p_r = len(X_l) / len(X), len(X_r) / len(X)\n",
    "                e = p_l * entropy(y_l) + p_r * entropy(y_r)\n",
    "                if e < best_entropy: # ID3决策树，信息增益法\n",
    "                    best_entropy, best_d, best_v = e, d, v\n",
    "    return best_entropy, best_d, best_v"
   ]
  },
  {
   "cell_type": "code",
   "execution_count": 49,
   "metadata": {},
   "outputs": [
    {
     "name": "stdout",
     "output_type": "stream",
     "text": [
      "best_entropy = 0.46209812037329684\n",
      "best_d = 0\n",
      "best_v = 2.45\n"
     ]
    }
   ],
   "source": [
    "X = iris.data[:,2:]\n",
    "y = iris.target\n",
    "best_entropy, best_d, best_v = try_split(X,y)\n",
    "print(\"best_entropy =\", best_entropy)\n",
    "print(\"best_d =\", best_d)\n",
    "print(\"best_v =\", best_v)"
   ]
  },
  {
   "cell_type": "markdown",
   "metadata": {},
   "source": [
    "第一次最优划分特征是第一个特征变量，最优划分点是$2.45$，**与上一节的绘图结果是一致的！**"
   ]
  },
  {
   "cell_type": "code",
   "execution_count": 50,
   "metadata": {},
   "outputs": [
    {
     "data": {
      "text/plain": [
       "(0.0, 0.6931471805599453)"
      ]
     },
     "execution_count": 50,
     "metadata": {},
     "output_type": "execute_result"
    }
   ],
   "source": [
    "X1_l,X1_r,y1_l,y1_r = split(X,y,best_d,best_v)\n",
    "entropy(y1_l),entropy(y1_r)"
   ]
  },
  {
   "cell_type": "code",
   "execution_count": 51,
   "metadata": {},
   "outputs": [
    {
     "name": "stdout",
     "output_type": "stream",
     "text": [
      "best_entropy = 0.2147644654371359\n",
      "best_d = 1\n",
      "best_v = 1.75\n"
     ]
    }
   ],
   "source": [
    "best_entropy, best_d, best_v = try_split(X1_r,y1_r)\n",
    "print(\"best_entropy =\", best_entropy)\n",
    "print(\"best_d =\", best_d)\n",
    "print(\"best_v =\", best_v)"
   ]
  },
  {
   "cell_type": "markdown",
   "metadata": {},
   "source": [
    "第二次最优划分特征是第二个特征变量，最优划分点是$1.75$"
   ]
  },
  {
   "cell_type": "code",
   "execution_count": 53,
   "metadata": {},
   "outputs": [
    {
     "data": {
      "text/plain": [
       "(0.30849545083110386, 0.10473243910508653)"
      ]
     },
     "execution_count": 53,
     "metadata": {},
     "output_type": "execute_result"
    }
   ],
   "source": [
    "X2_l,X2_r,y2_l,y2_r = split(X1_r,y1_r,best_d,best_v)\n",
    "entropy(y2_l),entropy(y2_r)"
   ]
  },
  {
   "cell_type": "markdown",
   "metadata": {},
   "source": [
    "#### 3.3 使用Gini系数进行划分"
   ]
  },
  {
   "cell_type": "code",
   "execution_count": 54,
   "metadata": {},
   "outputs": [],
   "source": [
    "import numpy as np\n",
    "import matplotlib.pyplot as plt"
   ]
  },
  {
   "cell_type": "code",
   "execution_count": 56,
   "metadata": {},
   "outputs": [],
   "source": [
    "from sklearn import datasets\n",
    "iris = datasets.load_iris()\n",
    "X = iris.data[:,2:]\n",
    "y = iris.target"
   ]
  },
  {
   "cell_type": "code",
   "execution_count": 65,
   "metadata": {},
   "outputs": [
    {
     "data": {
      "text/plain": [
       "DecisionTreeClassifier(ccp_alpha=0.0, class_weight=None, criterion='gini',\n",
       "                       max_depth=2, max_features=None, max_leaf_nodes=None,\n",
       "                       min_impurity_decrease=0.0, min_impurity_split=None,\n",
       "                       min_samples_leaf=1, min_samples_split=2,\n",
       "                       min_weight_fraction_leaf=0.0, presort='deprecated',\n",
       "                       random_state=42, splitter='best')"
      ]
     },
     "execution_count": 65,
     "metadata": {},
     "output_type": "execute_result"
    }
   ],
   "source": [
    "from sklearn.tree import DecisionTreeClassifier\n",
    "dt_clf = DecisionTreeClassifier(max_depth=2,criterion=\"gini\",random_state=42) # 默认使用gini系数, 42表随机生成器的种子??\n",
    "dt_clf.fit(X,y)"
   ]
  },
  {
   "cell_type": "code",
   "execution_count": 64,
   "metadata": {},
   "outputs": [
    {
     "data": {
      "image/png": "[encoded data removed]",
      "text/plain": [
       "<Figure size 432x288 with 1 Axes>"
      ]
     },
     "metadata": {
      "needs_background": "light"
     },
     "output_type": "display_data"
    }
   ],
   "source": [
    "plot_decision_boundary(dt_clf, axis=[0.5, 7.5, 0, 3])\n",
    "plt.scatter(X[y==0,0], X[y==0,1])\n",
    "plt.scatter(X[y==1,0], X[y==1,1])\n",
    "plt.scatter(X[y==2,0], X[y==2,1])\n",
    "plt.show()"
   ]
  },
  {
   "cell_type": "markdown",
   "metadata": {},
   "source": [
    "#### 3.4 模拟使用Gini系数进行划分"
   ]
  },
  {
   "cell_type": "code",
   "execution_count": 76,
   "metadata": {},
   "outputs": [],
   "source": [
    "from collections import Counter\n",
    "from math import log\n",
    "\n",
    "# 基尼函数\n",
    "def gini(y):\n",
    "    counter = Counter(y)\n",
    "    res = 1.0\n",
    "    \n",
    "    for num in counter.values():\n",
    "        p = num / len(y)\n",
    "        res -= p**2\n",
    "    return res\n",
    "\n",
    "# 寻找最优特征和划分值\n",
    "def try_split(X,y):\n",
    "    \n",
    "    best_g = float('inf') # 正无穷\n",
    "    best_d,best_v = -1,-1\n",
    "    \n",
    "    # 对特征进行遍历\n",
    "    for d in range(X.shape[1]):\n",
    "        sorted_index = np.argsort(X[:,d]) # 对数据集第d个属性进行排序，返回值从小到大的索引值\n",
    "        for i in range(1,len(X)): # 第i-1,i个样本进行比较\n",
    "            if X[sorted_index[i-1],d] != X[sorted_index[i],d]:\n",
    "                v = (X[sorted_index[i-1],d] + X[sorted_index[i],d])/2\n",
    "                X_l,X_r,y_l,y_r = split(X,y,d,v);\n",
    "                p_l, p_r = len(X_l) / len(X), len(X_r) / len(X)\n",
    "                g = p_l * gini(y_l) + p_r * gini(y_r)\n",
    "                if g < best_g: # Gini指数?\n",
    "                    best_g, best_d, best_v = g, d, v\n",
    "                    \n",
    "    return best_g, best_d, best_v"
   ]
  },
  {
   "cell_type": "code",
   "execution_count": 77,
   "metadata": {},
   "outputs": [
    {
     "name": "stdout",
     "output_type": "stream",
     "text": [
      "best_g = 0.3333333333333333\n",
      "best_d = 0\n",
      "best_v = 2.45\n"
     ]
    }
   ],
   "source": [
    "X = iris.data[:,2:]\n",
    "y = iris.target\n",
    "best_g, best_d, best_v = try_split(X, y)\n",
    "print(\"best_g =\", best_g)\n",
    "print(\"best_d =\", best_d)\n",
    "print(\"best_v =\", best_v)"
   ]
  },
  {
   "cell_type": "markdown",
   "metadata": {},
   "source": [
    "第一次最优划分特征是第一个特征变量，最优划分点是$2.45$，**与绘图结果一致！**"
   ]
  },
  {
   "cell_type": "code",
   "execution_count": 71,
   "metadata": {},
   "outputs": [
    {
     "data": {
      "text/plain": [
       "(0.0, 0.5)"
      ]
     },
     "execution_count": 71,
     "metadata": {},
     "output_type": "execute_result"
    }
   ],
   "source": [
    "X1_l, X1_r, y1_l, y1_r = split(X, y, best_d, best_v)\n",
    "gini(y1_l),gini(y1_r)"
   ]
  },
  {
   "cell_type": "code",
   "execution_count": 73,
   "metadata": {},
   "outputs": [
    {
     "name": "stdout",
     "output_type": "stream",
     "text": [
      "best_g = 0.1103059581320451\n",
      "best_d = 1\n",
      "best_v = 1.75\n"
     ]
    }
   ],
   "source": [
    "best_g2, best_d2, best_v2 = try_split(X1_r, y1_r)\n",
    "print(\"best_g =\", best_g2)\n",
    "print(\"best_d =\", best_d2)\n",
    "print(\"best_v =\", best_v2)"
   ]
  },
  {
   "cell_type": "markdown",
   "metadata": {},
   "source": [
    "第二次最优划分特征是第二个特征变量，最优划分点是 1.75 ，与绘图结果一致！"
   ]
  },
  {
   "cell_type": "code",
   "execution_count": 79,
   "metadata": {},
   "outputs": [
    {
     "data": {
      "text/plain": [
       "(0.1680384087791495, 0.04253308128544431)"
      ]
     },
     "execution_count": 79,
     "metadata": {},
     "output_type": "execute_result"
    }
   ],
   "source": [
    "X2_l, X2_r, y2_l, y2_r = split(X1_r, y1_r, best_d2, best_v2)\n",
    "gini(y2_l),gini(y2_r)"
   ]
  },
  {
   "cell_type": "markdown",
   "metadata": {},
   "source": [
    "## 4. 剪枝"
   ]
  },
  {
   "cell_type": "markdown",
   "metadata": {},
   "source": [
    "### 4.1 预剪枝"
   ]
  },
  {
   "cell_type": "markdown",
   "metadata": {},
   "source": [
    "在决策树生成过程中，在划分结点时，若该节点的划分没有提高其在验证集熵的准确率，则不进行划分"
   ]
  },
  {
   "cell_type": "markdown",
   "metadata": {},
   "source": [
    "* 预剪枝使得决策树的很多分支都没有“展开”，这能够降低过拟合的风险，并显著减少决策树的训练时间开销和测试时间开销\n",
    "\n",
    "* 另一方面，预剪枝基于“贪心”的本质，会禁止某些分支展开，这会带来欠拟合的风险"
   ]
  },
  {
   "cell_type": "markdown",
   "metadata": {},
   "source": [
    "预剪枝策略主要包括：限制树的深度、叶子节点个数、叶子节点样本数、信息增益量等等。"
   ]
  },
  {
   "cell_type": "markdown",
   "metadata": {},
   "source": [
    "**sklearn中的决策树超参数：**\n",
    "* min_samples_split: 如果某节点的样本数少于min_samples_split，则不会继续再尝试选择最优特征来进行划分；如果样本量不大，不需要管这个值。如果样本量数量级非常大，则推荐增大这个值。\n",
    "\n",
    "* min_samples_leaf: 这个值限制了叶子节点最少的样本数，如果某叶子节点数目小于样本数，则会和兄弟节点一起被剪枝，如果样本量不大，不需要管这个值，大如10W可是尝试下5\n",
    "\n",
    "* min_weight_fraction_leaf: 这个值限制了叶子节点所有样本权重和的最小值，如果小于这个值，则会和兄弟节点一起被剪枝；默认是0，就是不考虑权重问题。一般来说，如果我们有较多样本有缺失值，或者分类树样本的分布类别偏差很大，就会引入样本权重，就要注意这个值了。\n",
    "\n",
    "* max_depth: 树的深度，数据少或者特征少的时候可以不管这个值，如果模型样本量多，特征也多的情况下，可以尝试限制下\n",
    "\n",
    "* max_leaf_nodes: 通过限制最大叶子节点数，可以防止过拟合，默认是\"None”，即不限制最大的叶子节点数。如果加了限制，算法会建立在最大叶子节点数内最优的决策树。如果特征不多，可以不考虑这个值，但是如果特征分成多的话，可以加以限制具体的值可以通过交叉验证得到。"
   ]
  },
  {
   "cell_type": "markdown",
   "metadata": {},
   "source": [
    "### 4.2 后剪枝"
   ]
  },
  {
   "cell_type": "markdown",
   "metadata": {},
   "source": [
    "先生成一棵完整的决策树，再从底往顶进行剪枝。"
   ]
  },
  {
   "cell_type": "markdown",
   "metadata": {},
   "source": [
    "* 后剪枝决策树通常比预剪枝决策树保留了更多的分支，所以一般情况下，后剪枝决策树的欠拟合风险很小，泛化能力往往优于预剪枝。\n",
    "\n",
    "* 后剪枝过程是在生成完全决策树之后进行的，并且要自底往上对树中的所有非叶子结点进行逐一考察，因此训练时间开销比预剪枝决策树要大得多。"
   ]
  },
  {
   "cell_type": "markdown",
   "metadata": {},
   "source": [
    "| 性能 | 预剪枝 | 后剪枝 |\n",
    "| :-----:| :----: | :----: |\n",
    "| 时间开销 | 小 | 大 |\n",
    "| 过拟合风险 |小| 大 |\n",
    "|欠拟合风险|大|小|\n",
    "| 泛化能力| 后剪枝>预剪枝 | "
   ]
  },
  {
   "cell_type": "markdown",
   "metadata": {},
   "source": [
    "## 5. 决策树算法的局限性"
   ]
  },
  {
   "cell_type": "markdown",
   "metadata": {},
   "source": [
    "### 5.1 决策树的划分边界总是平行于特征轴，可能导致欠拟合问题"
   ]
  },
  {
   "cell_type": "markdown",
   "metadata": {},
   "source": [
    "![决策树欠拟合](../img/dt-disadvantage.png)"
   ]
  },
  {
   "cell_type": "markdown",
   "metadata": {},
   "source": [
    "### 5.2 对个别数据敏感 （非参数学习算法的共性）"
   ]
  },
  {
   "cell_type": "markdown",
   "metadata": {},
   "source": [
    "#### 以莺尾花数据集为例"
   ]
  },
  {
   "cell_type": "code",
   "execution_count": 25,
   "metadata": {},
   "outputs": [],
   "source": [
    "from sklearn import datasets\n",
    "\n",
    "iris = datasets.load_iris()\n",
    "X = iris.data[:,2:]\n",
    "y = iris.target"
   ]
  },
  {
   "cell_type": "code",
   "execution_count": 26,
   "metadata": {},
   "outputs": [
    {
     "data": {
      "text/plain": [
       "DecisionTreeClassifier(ccp_alpha=0.0, class_weight=None, criterion='entropy',\n",
       "                       max_depth=2, max_features=None, max_leaf_nodes=None,\n",
       "                       min_impurity_decrease=0.0, min_impurity_split=None,\n",
       "                       min_samples_leaf=1, min_samples_split=2,\n",
       "                       min_weight_fraction_leaf=0.0, presort='deprecated',\n",
       "                       random_state=None, splitter='best')"
      ]
     },
     "execution_count": 26,
     "metadata": {},
     "output_type": "execute_result"
    }
   ],
   "source": [
    "from sklearn.tree import DecisionTreeClassifier\n",
    "\n",
    "tree_clf = DecisionTreeClassifier(max_depth=2, criterion=\"entropy\") # 信息熵划分法\n",
    "tree_clf.fit(X, y)"
   ]
  },
  {
   "cell_type": "code",
   "execution_count": 27,
   "metadata": {},
   "outputs": [
    {
     "data": {
      "image/png": "[encoded data removed]",
      "text/plain": [
       "<Figure size 432x288 with 1 Axes>"
      ]
     },
     "metadata": {
      "needs_background": "light"
     },
     "output_type": "display_data"
    }
   ],
   "source": [
    "plot_decision_boundary(tree_clf, axis=[0.5, 7.5, 0, 3])\n",
    "plt.scatter(X[y==0,0], X[y==0,1])\n",
    "plt.scatter(X[y==1,0], X[y==1,1])\n",
    "plt.scatter(X[y==2,0], X[y==2,1])\n",
    "plt.show()"
   ]
  },
  {
   "cell_type": "code",
   "execution_count": 28,
   "metadata": {},
   "outputs": [],
   "source": [
    "# 删掉第138个样本\n",
    "X_new = np.delete(X, 138, axis=0)\n",
    "y_new = np.delete(y, 138)"
   ]
  },
  {
   "cell_type": "code",
   "execution_count": 29,
   "metadata": {},
   "outputs": [
    {
     "data": {
      "text/plain": [
       "(149, 2)"
      ]
     },
     "execution_count": 29,
     "metadata": {},
     "output_type": "execute_result"
    }
   ],
   "source": [
    "X_new.shape"
   ]
  },
  {
   "cell_type": "code",
   "execution_count": 30,
   "metadata": {},
   "outputs": [
    {
     "data": {
      "text/plain": [
       "DecisionTreeClassifier(ccp_alpha=0.0, class_weight=None, criterion='entropy',\n",
       "                       max_depth=2, max_features=None, max_leaf_nodes=None,\n",
       "                       min_impurity_decrease=0.0, min_impurity_split=None,\n",
       "                       min_samples_leaf=1, min_samples_split=2,\n",
       "                       min_weight_fraction_leaf=0.0, presort='deprecated',\n",
       "                       random_state=None, splitter='best')"
      ]
     },
     "execution_count": 30,
     "metadata": {},
     "output_type": "execute_result"
    }
   ],
   "source": [
    "tree_clf2 = DecisionTreeClassifier(max_depth=2, criterion=\"entropy\")\n",
    "tree_clf2.fit(X_new, y_new)"
   ]
  },
  {
   "cell_type": "code",
   "execution_count": 32,
   "metadata": {},
   "outputs": [
    {
     "data": {
      "image/png": "[encoded data removed]",
      "text/plain": [
       "<Figure size 432x288 with 1 Axes>"
      ]
     },
     "metadata": {
      "needs_background": "light"
     },
     "output_type": "display_data"
    }
   ],
   "source": [
    "plot_decision_boundary(tree_clf2, axis=[0.5, 7.5, 0, 3])\n",
    "plt.scatter(X[y==0,0], X[y==0,1])\n",
    "plt.scatter(X[y==1,0], X[y==1,1])\n",
    "plt.scatter(X[y==2,0], X[y==2,1])\n",
    "plt.show()"
   ]
  },
  {
   "cell_type": "code",
   "execution_count": 33,
   "metadata": {},
   "outputs": [
    {
     "data": {
      "text/plain": [
       "array([4.8, 1.8])"
      ]
     },
     "execution_count": 33,
     "metadata": {},
     "output_type": "execute_result"
    }
   ],
   "source": [
    "X[138]"
   ]
  },
  {
   "cell_type": "markdown",
   "metadata": {},
   "source": [
    "## 要点回顾"
   ]
  },
  {
   "cell_type": "markdown",
   "metadata": {},
   "source": [
    "* 在莺尾花案例中，**由于特征属性的取值是连续值，无法通过属性取值来划分（数目太多）**，因此采用贪婪算法对其进行划分\n",
    "\n",
    "* 使用决策树解决回归问题时，**通过最小二乘法确定划分属性和划分点**，以划分**单元内样本的均值**作为叶子结点的输出值\n",
    "\n",
    "* 划分点的选取为何不直接采用排序后的中值？\n",
    "假设$D=\\left\\{ (1,0),(1.4,1),(1.2,1), (1.6,1) \\right\\}$，划分点取$1.1$将得到信息熵为$0$的划分（最优划分），不要将属性的中值与信息熵混淆"
   ]
  },
  {
   "cell_type": "markdown",
   "metadata": {},
   "source": [
    "## 参考资料\n",
    "\n",
    "[1] 周志华. 机器学习，Machine learning[M]. 清华大学出版社, 2016.\n",
    "\n",
    "[2] https://blog.csdn.net/Albert201605/article/details/81865261\n",
    "\n",
    "[3] 李航. 统计学习方法[M]. 清华大学出版社, 2012.\n",
    "\n",
    "[4] 王燕军，梁治安. 最优化基础理论与方法[M]. 复旦大学出版社, 2011."
   ]
  },
  {
   "cell_type": "markdown",
   "metadata": {},
   "source": [
    "## 附录"
   ]
  },
  {
   "cell_type": "markdown",
   "metadata": {},
   "source": [
    "#### 证明：$0\\leq Ent(D)\\leq log_2 |\\mathcal{Y}|$"
   ]
  },
  {
   "cell_type": "markdown",
   "metadata": {},
   "source": [
    "其中$$Ent(D)=-\\sum_{k=1}^{|\\mathcal{Y}|}p_klog_2p_k$$"
   ]
  },
  {
   "cell_type": "markdown",
   "metadata": {},
   "source": [
    "证：1）首先求$Ent(D)$的最大值。"
   ]
  },
  {
   "cell_type": "markdown",
   "metadata": {},
   "source": [
    "若令$|\\mathcal{Y}|=n$，$p_k=x_k$，则信息熵$Ent(D)$可以看作是一个$n$元实值函数：$$Ent(D)=f(x_1,...,x_n)=-\\sum_{k=1}^{n}x_klog_2x_k$$"
   ]
  },
  {
   "cell_type": "markdown",
   "metadata": {},
   "source": [
    "其中，$0\\leq x_k \\leq 1$，$\\sum_{k=1}^n x_k=1$，考虑该多元函数的最大值。"
   ]
  },
  {
   "cell_type": "markdown",
   "metadata": {},
   "source": [
    "如果不考虑不等式约束$0\\leq x_k \\leq 1$，仅考虑$\\sum_{k=1}^n x_k=1$，则对$f(x_1,...,x_n)$求最大值等价于如下最小值问题：\n",
    "$$min\\sum_{k=1}^{n}x_klog_2x_k$$ $$s.t. \\sum_{k=1}^n x_k=1$$"
   ]
  },
  {
   "cell_type": "markdown",
   "metadata": {},
   "source": [
    "**在$0\\leq x_k \\leq 1$时，此问题为凸优化问题（待求证）。** 对凸优化问题，满足KKT条件的点即为最优解[4]。"
   ]
  },
  {
   "cell_type": "markdown",
   "metadata": {},
   "source": [
    "上述优化问题的拉格朗日函数为$$L(x_1,...,x_n,\\lambda)= \\sum_{k=1}^{n}x_klog_2x_k+ \\lambda\\left( \\sum_{k=1}^n x_k - 1 \\right)$$"
   ]
  },
  {
   "cell_type": "markdown",
   "metadata": {},
   "source": [
    "对该拉格朗日函数分别关于$x_1,...,x_n$和$\\lambda$求一阶偏导，并令偏导数等于$0$可得"
   ]
  },
  {
   "cell_type": "markdown",
   "metadata": {},
   "source": [
    "$$\\begin{aligned}\\frac{\\partial L(x_1,...,x_n,\\lambda)}{\\partial x_i}&=\\frac{\\partial}{\\partial x_i}\\left[  \\sum_{k=1}^{n}x_klog_2x_k+ \\lambda\\left( \\sum_{k=1}^n x_k - 1 \\right) \\right]\\\\ \n",
    "&=log_2x_i + x_i \\frac{1}{x_i ln2}+\\lambda = 0\\end{aligned}$$"
   ]
  },
  {
   "cell_type": "markdown",
   "metadata": {},
   "source": [
    "因此，$$\\lambda=-log_2 x_1 - \\frac{1}{ln2}=...=-log_2 x_n - \\frac{1}{ln2}$$"
   ]
  },
  {
   "cell_type": "markdown",
   "metadata": {},
   "source": [
    "又 $$\\begin{aligned}\\frac{\\partial L(x_1,...,x_n,\\lambda)}{\\partial \\lambda}&=\\frac{\\partial}{\\partial \\lambda}\\left[  \\sum_{k=1}^{n}x_klog_2x_k+ \\lambda\\left( \\sum_{k=1}^n x_k - 1 \\right) \\right]\\\\ \n",
    "&=\\sum_{k=1}^n x_k-1 = 0\\end{aligned}$$"
   ]
  },
  {
   "cell_type": "markdown",
   "metadata": {},
   "source": [
    "可解得 $$x_1=x_2=...=x_n = \\frac{1}{n}$$该组解又满足$0\\leq x_k \\leq 1$这一约束，因此**当前最小化问题的最小值点，正是$f(x_1,...,x_n)$满足所有约束的最大值点**$$f(\\frac{1}{n},...,\\frac{1}{n})=-\\sum_{k=1}^n \\frac{1}{n}log_2 \\frac{1}{n} = -n \\frac{1}{n}log_2\\frac{1}{n} = log_2n$$"
   ]
  },
  {
   "cell_type": "markdown",
   "metadata": {},
   "source": [
    "2）现在求$Ent(D)$的最小值"
   ]
  },
  {
   "cell_type": "markdown",
   "metadata": {},
   "source": [
    "如果不考虑等式约束$\\sum_{k=1}^n x_k=1$,仅考虑$0\\leq x_k \\leq 1$，则$Ent(D)$可以看作是$n$个互不相关的一元函数的加和：$$f(x_1,...,x_n)=\\sum_{k=1}^ng(x_k)$$"
   ]
  },
  {
   "cell_type": "markdown",
   "metadata": {},
   "source": [
    "其中，$g(x_k)=-x_klog_2x_k$。因此，当$g(x_k)$分别取到各自的最小值时，$f(x_1,...,x_n)$也就取到了最小值。"
   ]
  },
  {
   "cell_type": "markdown",
   "metadata": {},
   "source": [
    "对$g(x)=-xlog_2x$关于$x$分别求一阶和二阶导数"
   ]
  },
  {
   "cell_type": "markdown",
   "metadata": {},
   "source": [
    "$$g'(x) = -log_2x - x\\frac{1}{xln2} = -log_2x -\\frac{1}{ln2} $$\n",
    "$$g''(x) = -\\frac{1}{xln2}$$"
   ]
  },
  {
   "cell_type": "markdown",
   "metadata": {},
   "source": [
    "当$0\\leq x \\leq 1$时，$g''(x)<0$恒成立，**因此$g(x)$在定义域内是一个开口向下的凹函数，其最小值必然在边界处，**分别取$x=0$，$x=1$，可得\n",
    "$$\n",
    "g(0)=g(1)=0\n",
    "$$"
   ]
  },
  {
   "cell_type": "markdown",
   "metadata": {},
   "source": [
    "也就是说，$g(x_k)$的最小值为$0$，此时仅考虑$0\\leq x_k \\leq 1$，$f(x_1,...,x_n)$的最小值为$0$；若考虑$\\sum_{x_k}^n=1$，那么$f(x_1,...,x_n)$的最小值一定大于等于$0$。"
   ]
  },
  {
   "cell_type": "markdown",
   "metadata": {},
   "source": [
    "如果令某个$x_k=1$，$x_1=x_2=...=x_{k-1}=x_{k+1}=...=x_n=0$,则$\\sum_{x_k}^n=1$,且$f(x_1,...,x_n)=0$取到了最小值，因此$f(x_1,...,x_n)$的最小值等于$0$，证毕。"
   ]
  }
 ],
 "metadata": {
  "kernelspec": {
   "display_name": "Python 3",
   "language": "python",
   "name": "python3"
  },
  "language_info": {
   "codemirror_mode": {
    "name": "ipython",
    "version": 3
   },
   "file_extension": ".py",
   "mimetype": "text/x-python",
   "name": "python",
   "nbconvert_exporter": "python",
   "pygments_lexer": "ipython3",
   "version": "3.7.6"
  }
 },
 "nbformat": 4,
 "nbformat_minor": 4
}
